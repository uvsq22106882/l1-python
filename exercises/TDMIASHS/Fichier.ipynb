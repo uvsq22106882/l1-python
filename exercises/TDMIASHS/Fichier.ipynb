{
 "cells": [
  {
   "cell_type": "code",
   "execution_count": 3,
   "metadata": {},
   "outputs": [
    {
     "name": "stdout",
     "output_type": "stream",
     "text": [
      "Tata 15 5 13\n",
      "\n",
      "['Tata', '15', '5', '13']\n",
      "TÃ©tÃ© 10 8 19\n",
      "\n",
      "['TÃ©tÃ©', '10', '8', '19']\n",
      "Titi 3 9 7\n",
      "\n",
      "['Titi', '3', '9', '7']\n",
      "Toto 15 17 11\n",
      "\n",
      "['Toto', '15', '17', '11']\n",
      "Tutu 9 10 12\n",
      "['Tutu', '9', '10', '12']\n"
     ]
    }
   ],
   "source": [
    "moyenne_liste=[]\n",
    "notes_liste=[]\n",
    "fichier=open(\"notes.txt\",\"r\")   \n",
    "while(True):\n",
    "    ligne=fichier.readline()  \n",
    "    if ligne == \"\":\n",
    "        break\n",
    "    print(ligne)\n",
    "    var = ligne.split()\n",
    "    moyenne_var = int((int(var[1])+int(var[2])+int(var[3]))/3)\n",
    "    moyenne_liste.append(moyenne_var)\n",
    "    notes_liste.append(ligne)\n",
    "    print(var)\n",
    "fichier=open(\"moyenne\",\"w\")\n",
    "for i in range (len(moyenne_liste)):\n",
    "     fichier.write(str(notes_liste[i]))\n",
    "     fichier.write(str(moyenne_liste[i]))\n",
    "     fichier.write(\"\\n\")\n",
    "fichier.close()"
   ]
  }
 ],
 "metadata": {
  "interpreter": {
   "hash": "e6835b02cb29a4bb95382409b6d22e8dcfa26c76c803b845d97e06ccf747408d"
  },
  "kernelspec": {
   "display_name": "Python 3.9.7 ('l1-python')",
   "language": "python",
   "name": "python3"
  },
  "language_info": {
   "codemirror_mode": {
    "name": "ipython",
    "version": 3
   },
   "file_extension": ".py",
   "mimetype": "text/x-python",
   "name": "python",
   "nbconvert_exporter": "python",
   "pygments_lexer": "ipython3",
   "version": "3.9.7"
  },
  "orig_nbformat": 4
 },
 "nbformat": 4,
 "nbformat_minor": 2
}
